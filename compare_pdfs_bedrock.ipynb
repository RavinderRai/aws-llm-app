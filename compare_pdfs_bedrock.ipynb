{
 "cells": [
  {
   "cell_type": "markdown",
   "metadata": {},
   "source": [
    "# Comparing two PDFs with AWS Bedrock\n",
    "\n",
    "In this post we'll go over an extension of the typical app to chat with a PDF. Here we will specifically take in two PDFs, and compare them using a custom prompt. We'll also configure it to let the user decide if they only want to chat with one or both documents. \n",
    "\n",
    "To get started, make sure you have the AWS command line installed, streamlit, faiss-cpu (for vectorstores), langchain and boto3. In AWS, you will also need to get access to a foundational model of your choice in AWS Bedrock. Keep in mind that it might not be free, so be careful with the use case (though it didn't cost me anything for this app).\n",
    "\n",
    "The first thing to do of course is create a app.py file (or whatever you want to name it), and load in the imports. Also instantiate bedrock and bedrock embeddings."
   ]
  },
  {
   "cell_type": "code",
   "execution_count": null,
   "metadata": {},
   "outputs": [],
   "source": [
    "import boto3\n",
    "import streamlit as st\n",
    "\n",
    "from langchain_community.embeddings import BedrockEmbeddings\n",
    "from langchain.llms.bedrock import Bedrock\n",
    "from langchain.text_splitter import RecursiveCharacterTextSplitter\n",
    "from langchain_community.document_loaders import PyPDFLoader\n",
    "from langchain.vectorstores import FAISS\n",
    "from langchain.prompts import PromptTemplate\n",
    "\n",
    "\n",
    "## Bedrock Clients\n",
    "bedrock=boto3.client(service_name=\"bedrock-runtime\")\n",
    "bedrock_embeddings=BedrockEmbeddings(model_id=\"amazon.titan-embed-text-v1\",client=bedrock)\n"
   ]
  },
  {
   "cell_type": "markdown",
   "metadata": {},
   "source": [
    "Now let's go over a function to get the data. In streamlit later on you will see we let users upload their PDFs, so we will use PyPDFLoader to process it."
   ]
  },
  {
   "cell_type": "code",
   "execution_count": null,
   "metadata": {},
   "outputs": [],
   "source": [
    "def data_ingestion(pdf):\n",
    "    with open(\"temp_pdf.pdf\", \"wb\") as f:\n",
    "        f.write(pdf.read())\n",
    "\n",
    "    loader = PyPDFLoader(\"temp_pdf.pdf\")\n",
    "    documents=loader.load()\n",
    "\n",
    "    # - in our testing Character split works better with this PDF data set\n",
    "    text_splitter=RecursiveCharacterTextSplitter(chunk_size=10000,\n",
    "                                                 chunk_overlap=1000)\n",
    "    \n",
    "    docs=text_splitter.split_documents(documents)\n",
    "    return docs"
   ]
  },
  {
   "cell_type": "markdown",
   "metadata": {},
   "source": []
  }
 ],
 "metadata": {
  "language_info": {
   "name": "python"
  }
 },
 "nbformat": 4,
 "nbformat_minor": 2
}
