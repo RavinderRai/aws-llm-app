{
 "cells": [
  {
   "cell_type": "markdown",
   "metadata": {},
   "source": [
    "# Comparing two PDFs with AWS Bedrock\n",
    "\n",
    "In this post we'll go over an extension of the typical app to chat with a PDF using RAG. Here we will specifically take in two PDFs, and compare them using a custom prompt. We'll also configure it to let the user decide if they only want to chat with one or both documents. Credits to Krish Naik for the original idea: https://www.youtube.com/watch?v=0LE5XrxGvbo&t=1065s. Also, see my GitHub repo for the code, and note that I used Python 3.12 in this case: https://github.com/RavinderRai/aws-llm-app.\n",
    "\n",
    "To get started, make sure you have the AWS command line installed, streamlit, faiss-cpu (for vectorstores), langchain, PdfReader, and boto3. In AWS, you will also need to get access to a foundational model of your choice in AWS Bedrock. Keep in mind that it might not be free, so be careful with the use case (though it didn't cost me anything for this app). You can also find these requirements and the versions that were used here: https://github.com/RavinderRai/aws-llm-app/blob/main/requirements.txt.\n",
    "\n",
    "The first thing to do of course is create a app.py file (or whatever you want to name it) for all the code below, and start with loading in the imports. Also instantiate bedrock and bedrock embeddings."
   ]
  },
  {
   "cell_type": "code",
   "execution_count": null,
   "metadata": {},
   "outputs": [],
   "source": [
    "import io\n",
    "import boto3\n",
    "import streamlit as st\n",
    "from pypdf import PdfReader\n",
    "\n",
    "from langchain_community.embeddings import BedrockEmbeddings\n",
    "from langchain.llms.bedrock import Bedrock\n",
    "from langchain.text_splitter import RecursiveCharacterTextSplitter\n",
    "from langchain.docstore.document import Document\n",
    "from langchain.vectorstores import FAISS\n",
    "from langchain.prompts import PromptTemplate\n",
    "\n",
    "\n",
    "## Bedrock Clients\n",
    "bedrock=boto3.client(service_name=\"bedrock-runtime\")\n",
    "bedrock_embeddings=BedrockEmbeddings(model_id=\"amazon.titan-embed-text-v1\",client=bedrock)\n"
   ]
  },
  {
   "cell_type": "markdown",
   "metadata": {},
   "source": [
    "Now let's go over a function to get the data. Here's how it works: \n",
    "\n",
    " - In streamlit later on you will see we let users upload their PDFs, so convert that to a file like object to then input it into PdfReader to process it. \n",
    " - Then we iterate through each page in the PDF and concatenate it all into one string.\n",
    " - Next we divide the text into chunks of size 10000, and the chunk_overlap is to prevent odd break points in the text when we do this split, so relevant context isn't lost.\n",
    " - Finally we get these chunks into a list and convert them into Documents.\n",
    "\n",
    "The Document function we get from langchain, and use as we are staying in the langchain ecosystem, but it is really just another way to store text data. It's like a dictionary with pageContent and metadata as keys. The metadata is meant to track things like the source of the text, but in this case we just leave it blank."
   ]
  },
  {
   "cell_type": "code",
   "execution_count": null,
   "metadata": {},
   "outputs": [],
   "source": [
    "def data_ingestion(pdf):\n",
    "    pdf_reader = PdfReader(io.BytesIO(pdf.getvalue()))\n",
    "    \n",
    "    raw_text = \"\"\n",
    "    for page in pdf_reader.pages:\n",
    "        raw_text += page.extract_text()\n",
    "\n",
    "    text_splitter = RecursiveCharacterTextSplitter(\n",
    "        chunk_size=10000,\n",
    "        chunk_overlap=1000\n",
    "    )\n",
    "    \n",
    "    texts = text_splitter.split_text(raw_text)\n",
    "    docs = [Document(page_content=t) for t in texts]\n",
    "    \n",
    "    return docs"
   ]
  },
  {
   "cell_type": "markdown",
   "metadata": {},
   "source": [
    "Next we have functions to load in vector stores and the llm. We are using FAISS to store our data, with bedrock embeddings that we loaded in earlier. You can of course modify the embeddings to your choosing.\n",
    "\n",
    "For the model, you can choose whichever you have access to in AWS Bedrock. To get the model_id log in to your AWS account and go to Bedrock. Then in the side bar click on Providers, and at the top select one. To get the one we selected here (meta.llama3-8b-instruct-v1:0), pick Meta, and then scroll down to the Llama models section and select Llama 3 8B Instruct. Then once again scroll down to the API request section and you'll find the model_id along with other parameters you can modify."
   ]
  },
  {
   "cell_type": "code",
   "execution_count": null,
   "metadata": {},
   "outputs": [],
   "source": [
    "def get_vector_store(docs, index_name):\n",
    "    if not docs:\n",
    "        raise ValueError(\"The document list is empty. Please check the data ingestion process.\")\n",
    "    \n",
    "    vectorstore_faiss=FAISS.from_documents(\n",
    "        docs,\n",
    "        bedrock_embeddings\n",
    "    )\n",
    "    vectorstore_faiss.save_local(index_name)\n",
    "\n",
    "def get_llm():\n",
    "    ## create the Anthropic Model\n",
    "    llm=Bedrock(\n",
    "        model_id=\"meta.llama3-8b-instruct-v1:0\", \n",
    "        client=bedrock,\n",
    "        model_kwargs={'max_gen_len':512}\n",
    "    )\n",
    "    return llm"
   ]
  },
  {
   "cell_type": "markdown",
   "metadata": {},
   "source": [
    "Now the fun part, let's define our prompt. You can change it if needed, but the point here is to instruct the model to respond to a question about one or both documents. I found if you don't leave a note to only answer based on one document if you only were given one, then it will leave a note itself in the response saying there was no second document. But try it out and see for yourself. Otherwise, I've instructed it to respond by comparing the documents, rather than just simply answering the question."
   ]
  },
  {
   "cell_type": "code",
   "execution_count": null,
   "metadata": {},
   "outputs": [],
   "source": [
    "prompt_template = \"\"\"\n",
    "Human: You are provided with context from one or two documents. \n",
    "Use the information from one or both documents to answer the question at the end. \n",
    "More specifically, if you only have one, then only answer given that document.\n",
    "But if you have two, then answer as if you are comparing or contrasting them. \n",
    "Summarize with at least 250 words with detailed explanations. \n",
    "If you don't know the answer, just say that you don't know, don't try to make up an answer.\n",
    "\n",
    "<Document 1 Context>\n",
    "{context1}\n",
    "</Document 1 Context>\n",
    "\n",
    "<Document 2 Context>\n",
    "{context2}\n",
    "</Document 2 Context>\n",
    "\n",
    "Question: {question}\n",
    "\n",
    "Assistant:\"\"\""
   ]
  },
  {
   "cell_type": "markdown",
   "metadata": {},
   "source": [
    "For the next function, we get the vector stores and do a similarity search. This will get the top 3 relevant parts of the PDF, and add them together to make a context string. We seperate this into two parts though, one if the user wants to compare both documents, and another if they only want to chat to one only, in which case we only load that PDFs respective context. Then we format the prompt to give it the contexts, leaving one as an empty string if the user chose to only speak to one document."
   ]
  },
  {
   "cell_type": "code",
   "execution_count": null,
   "metadata": {},
   "outputs": [],
   "source": [
    "def get_response_llm(llm, vectorstore_faiss1, vectorstore_faiss2, query, use_both=False, use_1_or_2=1):\n",
    "    if use_both:\n",
    "        retriever1 = vectorstore_faiss1.as_retriever(search_type=\"similarity\", search_kwargs={\"k\": 3})\n",
    "        retriever2 = vectorstore_faiss2.as_retriever(search_type=\"similarity\", search_kwargs={\"k\": 3})\n",
    "\n",
    "        docs1 = retriever1.get_relevant_documents(query)\n",
    "        docs2 = retriever2.get_relevant_documents(query)\n",
    "\n",
    "        context1 = \"\\n\".join([doc.page_content for doc in docs1])\n",
    "        context2 = \"\\n\".join([doc.page_content for doc in docs2])\n",
    "\n",
    "    else:\n",
    "        if use_1_or_2==1:\n",
    "            retriever1 = vectorstore_faiss1.as_retriever(search_type=\"similarity\", search_kwargs={\"k\": 3})\n",
    "            docs1 = retriever1.get_relevant_documents(query)\n",
    "            context1 = \"\\n\".join([doc.page_content for doc in docs1])\n",
    "            context2 = \"\"\n",
    "        elif use_1_or_2==2:\n",
    "            retriever2 = vectorstore_faiss2.as_retriever(search_type=\"similarity\", search_kwargs={\"k\": 3})\n",
    "            docs2 = retriever2.get_relevant_documents(query)\n",
    "            context1 = \"\"\n",
    "            context2 = \"\\n\".join([doc.page_content for doc in docs2])\n",
    "\n",
    "    prompt = PROMPT.format(context1=context1, context2=context2, question=query)\n",
    "    answer = llm(prompt)\n",
    "    return answer"
   ]
  },
  {
   "cell_type": "markdown",
   "metadata": {},
   "source": [
    "In the final function, this is where we actually call the function above depending on what the user selected. In the streamlit app we have buttons, one for use_both, and use_1_or_2, each respective of whether the user wants to chat with both documents or just one of the two. We also wrap this all in a try and except block to catch common errors like not uploading both files."
   ]
  },
  {
   "cell_type": "code",
   "execution_count": null,
   "metadata": {},
   "outputs": [],
   "source": [
    "def chat_with_documents(user_question, use_both, use_1_or_2=None):\n",
    "    try:\n",
    "        with st.spinner(\"Processing...\"):\n",
    "            llm = get_llm()\n",
    "            if use_both:\n",
    "                vectorstore_faiss1 = FAISS.load_local(\"faiss_index1\", bedrock_embeddings, allow_dangerous_deserialization=True)\n",
    "                vectorstore_faiss2 = FAISS.load_local(\"faiss_index2\", bedrock_embeddings, allow_dangerous_deserialization=True)\n",
    "                response = get_response_llm(llm, vectorstore_faiss1, vectorstore_faiss2, user_question, use_both=True)\n",
    "            elif use_1_or_2 == 1:\n",
    "                vectorstore_faiss1 = FAISS.load_local(\"faiss_index1\", bedrock_embeddings, allow_dangerous_deserialization=True)\n",
    "                response = get_response_llm(llm, vectorstore_faiss1, None, user_question, use_both=False, use_1_or_2=1)\n",
    "            elif use_1_or_2 == 2:\n",
    "                vectorstore_faiss2 = FAISS.load_local(\"faiss_index2\", bedrock_embeddings, allow_dangerous_deserialization=True)\n",
    "                response = get_response_llm(llm, None, vectorstore_faiss2, user_question, use_both=False, use_1_or_2=2)\n",
    "        return response\n",
    "    \n",
    "    except UnboundLocalError:\n",
    "        st.write(f\"Please upload {'both documents' if use_both else f'document {use_1_or_2}'}\")\n",
    "    \n",
    "    except Exception as e:\n",
    "        error_type = type(e).__name__\n",
    "        st.write(f\"An error occurred: {e} (Error type: {error_type})\")\n",
    "    \n",
    "    return \"\""
   ]
  },
  {
   "cell_type": "markdown",
   "metadata": {},
   "source": [
    "And finally, we have our main function which defines our streamlit app. It is pretty straightforward though, starting with some configurations and titles, followed by a user input text box for the query. We also initialize the response to and empty string.\n",
    "\n",
    "In the side bar, we add two file_uploarder buttons. You can actually set it to allow multiple file uploads, but we don't want that here as we want exactly 2, and for them to be seperate. Then we have a confirm upload button to download them into vector databases.\n",
    "\n",
    "As for the main app, we just have the user input at the top, with the 3 buttons below it, stacked horizontally in one row. Then we write the response from the LLM below all this."
   ]
  },
  {
   "cell_type": "code",
   "execution_count": null,
   "metadata": {},
   "outputs": [],
   "source": [
    "def main():\n",
    "    st.set_page_config(page_title=\"Chatting with two PDFs\", page_icon=\":books:\")\n",
    "    st.header(\"Chat and compare two PDFs\")\n",
    "\n",
    "    user_question = st.text_input(\"Ask a question from the PDF files\")\n",
    "    response = \"\"\n",
    "\n",
    "    with st.sidebar:\n",
    "        st.title(\"Upload two PDF files.\")\n",
    "        pdf1 = st.file_uploader(\"Upload the first document\", type=\"pdf\")\n",
    "        pdf2 = st.file_uploader(\"Upload the second document\", type=\"pdf\")\n",
    "\n",
    "        if st.button(\"Confirm Upload\"):\n",
    "            with st.spinner(\"Processing...\"):\n",
    "                doc1 = data_ingestion(pdf1)\n",
    "                doc2 = data_ingestion(pdf2)\n",
    "\n",
    "                get_vector_store(doc1, \"faiss_index1\")\n",
    "                get_vector_store(doc2, \"faiss_index2\")\n",
    "\n",
    "                st.success(\"Done\")\n",
    "\n",
    "    col1, col2, col3 = st.columns(3)\n",
    "\n",
    "    if col1.button(\"Chat with both Documents\"):\n",
    "        response = chat_with_documents(user_question, use_both=True)\n",
    "\n",
    "    if col2.button(\"Chat with Document 1\"):\n",
    "        response = chat_with_documents(user_question, use_both=False, use_1_or_2=1)\n",
    "\n",
    "    if col3.button(\"Chat with Document 2\"):\n",
    "        response = chat_with_documents(user_question, use_both=False, use_1_or_2=2)\n",
    "\n",
    "    st.write(response)"
   ]
  },
  {
   "cell_type": "markdown",
   "metadata": {},
   "source": [
    "And that's it for this app. If it runs then it should look like this (that is, if you're using dark mode). Feel free to add, modify, or extend this app to your liking! And again credits to Krish Naik for this original inspiration here: https://www.youtube.com/watch?v=0LE5XrxGvbo&t=1065s.\n",
    "\n",
    "<img src=\"chat_with_bedrock.jpg\" alt=\"Streamlit App Screenshot\" width=\"600\">\n",
    "\n",
    "\n",
    "\n"
   ]
  }
 ],
 "metadata": {
  "language_info": {
   "name": "python"
  }
 },
 "nbformat": 4,
 "nbformat_minor": 2
}
